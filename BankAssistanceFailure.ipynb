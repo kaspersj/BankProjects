{
 "cells": [
  {
   "cell_type": "code",
   "execution_count": 229,
   "metadata": {},
   "outputs": [],
   "source": [
    "import pandas as pd\n",
    "import numpy as np\n",
    "\n",
    "from sklearn.model_selection import train_test_split\n",
    "import matplotlib.pyplot as plt\n",
    "\n",
    "import seaborn as sns\n",
    "from sklearn import preprocessing\n",
    "from sklearn.preprocessing import StandardScaler\n",
    "from sklearn.linear_model import LogisticRegression\n",
    "from sklearn.preprocessing import OneHotEncoder\n",
    "from sklearn.metrics import accuracy_score, mean_squared_error\n",
    "\n",
    "import lightgbm as lgb\n",
    "from lightgbm import LGBMRegressor"
   ]
  },
  {
   "cell_type": "code",
   "execution_count": 230,
   "metadata": {},
   "outputs": [
    {
     "data": {
      "text/html": [
       "<div>\n",
       "<style scoped>\n",
       "    .dataframe tbody tr th:only-of-type {\n",
       "        vertical-align: middle;\n",
       "    }\n",
       "\n",
       "    .dataframe tbody tr th {\n",
       "        vertical-align: top;\n",
       "    }\n",
       "\n",
       "    .dataframe thead th {\n",
       "        text-align: right;\n",
       "    }\n",
       "</style>\n",
       "<table border=\"1\" class=\"dataframe\">\n",
       "  <thead>\n",
       "    <tr style=\"text-align: right;\">\n",
       "      <th></th>\n",
       "      <th>CERT</th>\n",
       "      <th>CHCLASS1</th>\n",
       "      <th>CITYST</th>\n",
       "      <th>COST</th>\n",
       "      <th>FAILDATE</th>\n",
       "      <th>FIN</th>\n",
       "      <th>ID</th>\n",
       "      <th>NAME</th>\n",
       "      <th>QBFASSET</th>\n",
       "      <th>QBFDEP</th>\n",
       "      <th>RESTYPE</th>\n",
       "      <th>RESTYPE1</th>\n",
       "      <th>SAVR</th>\n",
       "    </tr>\n",
       "  </thead>\n",
       "  <tbody>\n",
       "    <tr>\n",
       "      <th>0</th>\n",
       "      <td>NaN</td>\n",
       "      <td>NM</td>\n",
       "      <td>EAST PEORIA, IL</td>\n",
       "      <td>NaN</td>\n",
       "      <td>5/28/1934</td>\n",
       "      <td>0</td>\n",
       "      <td>1</td>\n",
       "      <td>FON DU LAC STATE BANK</td>\n",
       "      <td>374.0</td>\n",
       "      <td>238.0</td>\n",
       "      <td>FAILURE</td>\n",
       "      <td>PO</td>\n",
       "      <td>FDIC</td>\n",
       "    </tr>\n",
       "    <tr>\n",
       "      <th>1</th>\n",
       "      <td>NaN</td>\n",
       "      <td>NM</td>\n",
       "      <td>GRANTWOOD, NJ</td>\n",
       "      <td>NaN</td>\n",
       "      <td>1/3/1935</td>\n",
       "      <td>0</td>\n",
       "      <td>10</td>\n",
       "      <td>CLIFFSIDE PARK TITLE GUARANTEE &amp; TRUST CO.</td>\n",
       "      <td>2305.0</td>\n",
       "      <td>590.0</td>\n",
       "      <td>FAILURE</td>\n",
       "      <td>PO</td>\n",
       "      <td>FDIC</td>\n",
       "    </tr>\n",
       "    <tr>\n",
       "      <th>2</th>\n",
       "      <td>NaN</td>\n",
       "      <td>NM</td>\n",
       "      <td>CUMMINGS, ND</td>\n",
       "      <td>NaN</td>\n",
       "      <td>12/21/1936</td>\n",
       "      <td>0</td>\n",
       "      <td>100</td>\n",
       "      <td>THE CUMMINGS STATE BANK</td>\n",
       "      <td>NaN</td>\n",
       "      <td>30.0</td>\n",
       "      <td>FAILURE</td>\n",
       "      <td>P&amp;A</td>\n",
       "      <td>FDIC</td>\n",
       "    </tr>\n",
       "    <tr>\n",
       "      <th>3</th>\n",
       "      <td>13797.0</td>\n",
       "      <td>NM</td>\n",
       "      <td>TAYLOR, NE</td>\n",
       "      <td>1653.0</td>\n",
       "      <td>5/31/1985</td>\n",
       "      <td>2466</td>\n",
       "      <td>1000</td>\n",
       "      <td>BANK OF TAYLOR</td>\n",
       "      <td>14542.0</td>\n",
       "      <td>13360.0</td>\n",
       "      <td>FAILURE</td>\n",
       "      <td>PA</td>\n",
       "      <td>FDIC</td>\n",
       "    </tr>\n",
       "    <tr>\n",
       "      <th>4</th>\n",
       "      <td>18388.0</td>\n",
       "      <td>NM</td>\n",
       "      <td>FAIRFIELD, NE</td>\n",
       "      <td>1656.0</td>\n",
       "      <td>5/31/1985</td>\n",
       "      <td>6571</td>\n",
       "      <td>1001</td>\n",
       "      <td>FAIRFIELD STATE BANK</td>\n",
       "      <td>6795.0</td>\n",
       "      <td>6034.0</td>\n",
       "      <td>FAILURE</td>\n",
       "      <td>PO</td>\n",
       "      <td>FDIC</td>\n",
       "    </tr>\n",
       "  </tbody>\n",
       "</table>\n",
       "</div>"
      ],
      "text/plain": [
       "      CERT CHCLASS1           CITYST    COST    FAILDATE   FIN    ID  \\\n",
       "0      NaN       NM  EAST PEORIA, IL     NaN   5/28/1934     0     1   \n",
       "1      NaN       NM    GRANTWOOD, NJ     NaN    1/3/1935     0    10   \n",
       "2      NaN       NM     CUMMINGS, ND     NaN  12/21/1936     0   100   \n",
       "3  13797.0       NM       TAYLOR, NE  1653.0   5/31/1985  2466  1000   \n",
       "4  18388.0       NM    FAIRFIELD, NE  1656.0   5/31/1985  6571  1001   \n",
       "\n",
       "                                         NAME  QBFASSET   QBFDEP  RESTYPE  \\\n",
       "0                       FON DU LAC STATE BANK     374.0    238.0  FAILURE   \n",
       "1  CLIFFSIDE PARK TITLE GUARANTEE & TRUST CO.    2305.0    590.0  FAILURE   \n",
       "2                     THE CUMMINGS STATE BANK       NaN     30.0  FAILURE   \n",
       "3                              BANK OF TAYLOR   14542.0  13360.0  FAILURE   \n",
       "4                        FAIRFIELD STATE BANK    6795.0   6034.0  FAILURE   \n",
       "\n",
       "  RESTYPE1  SAVR  \n",
       "0       PO  FDIC  \n",
       "1       PO  FDIC  \n",
       "2      P&A  FDIC  \n",
       "3       PA  FDIC  \n",
       "4       PO  FDIC  "
      ]
     },
     "execution_count": 230,
     "metadata": {},
     "output_type": "execute_result"
    }
   ],
   "source": [
    "data = pd.read_csv('bank-data.csv') # data from https://www.fdic.gov\n",
    "data.head()"
   ]
  },
  {
   "cell_type": "code",
   "execution_count": 231,
   "metadata": {},
   "outputs": [
    {
     "data": {
      "text/plain": [
       "Index(['CERT', 'CHCLASS1', 'CITYST', 'COST', 'FAILDATE', 'FIN', 'ID', 'NAME',\n",
       "       'QBFASSET', 'QBFDEP', 'RESTYPE', 'RESTYPE1', 'SAVR'],\n",
       "      dtype='object')"
      ]
     },
     "execution_count": 231,
     "metadata": {},
     "output_type": "execute_result"
    }
   ],
   "source": [
    "data.columns"
   ]
  },
  {
   "cell_type": "markdown",
   "metadata": {},
   "source": [
    "RESTYPE will be our outcome variable - a binary variable denoting FAILURE or ASSISTANCE."
   ]
  },
  {
   "cell_type": "code",
   "execution_count": 232,
   "metadata": {},
   "outputs": [
    {
     "data": {
      "text/plain": [
       "<bound method DataFrame.info of          CERT CHCLASS1           CITYST     COST    FAILDATE   FIN    ID  \\\n",
       "0         NaN       NM  EAST PEORIA, IL      NaN   5/28/1934     0     1   \n",
       "1         NaN       NM    GRANTWOOD, NJ      NaN    1/3/1935     0    10   \n",
       "2         NaN       NM     CUMMINGS, ND      NaN  12/21/1936     0   100   \n",
       "3     13797.0       NM       TAYLOR, NE   1653.0   5/31/1985  2466  1000   \n",
       "4     18388.0       NM    FAIRFIELD, NE   1656.0   5/31/1985  6571  1001   \n",
       "...       ...      ...              ...      ...         ...   ...   ...   \n",
       "4104  30934.0       SL   TITUSVILLE, FL   7096.0    5/2/1985  1666   987   \n",
       "4105  28448.0       SB  NEW ORLEANS, LA  51544.0   5/10/1985  1718   991   \n",
       "4106  30054.0       SL       MARION, OH      0.0   5/22/1985  1667   994   \n",
       "4107  29052.0       SL     FREEPORT, IL  13607.0   5/28/1985  1721   996   \n",
       "4108   9477.0       NM     WOODBURN, OR  18791.0   5/31/1985  1923   998   \n",
       "\n",
       "                                            NAME  QBFASSET    QBFDEP  \\\n",
       "0                          FON DU LAC STATE BANK     374.0     238.0   \n",
       "1     CLIFFSIDE PARK TITLE GUARANTEE & TRUST CO.    2305.0     590.0   \n",
       "2                        THE CUMMINGS STATE BANK       NaN      30.0   \n",
       "3                                 BANK OF TAYLOR   14542.0   13360.0   \n",
       "4                           FAIRFIELD STATE BANK    6795.0    6034.0   \n",
       "...                                          ...       ...       ...   \n",
       "4104                 FIRST FEDERAL OF TITUSVILLE  162735.0  157676.0   \n",
       "4105                   FIRST FINANCIAL BANK, FSB  739385.0  630966.0   \n",
       "4106                                  HOME FS&LA  201914.0  206552.0   \n",
       "4107                     FIRST FS&LA OF FREEPORT   63321.0   45738.0   \n",
       "4108                              BANK OF OREGON  117145.0   96968.0   \n",
       "\n",
       "         RESTYPE RESTYPE1   SAVR  \n",
       "0        FAILURE       PO   FDIC  \n",
       "1        FAILURE       PO   FDIC  \n",
       "2        FAILURE      P&A   FDIC  \n",
       "3        FAILURE       PA   FDIC  \n",
       "4        FAILURE       PO   FDIC  \n",
       "...          ...      ...    ...  \n",
       "4104  ASSISTANCE      A/A  FSLIC  \n",
       "4105  ASSISTANCE      A/A  FSLIC  \n",
       "4106  ASSISTANCE      A/A  FSLIC  \n",
       "4107  ASSISTANCE      A/A  FSLIC  \n",
       "4108  ASSISTANCE      A/A   FDIC  \n",
       "\n",
       "[4109 rows x 13 columns]>"
      ]
     },
     "execution_count": 232,
     "metadata": {},
     "output_type": "execute_result"
    }
   ],
   "source": [
    "data.info"
   ]
  },
  {
   "cell_type": "code",
   "execution_count": 233,
   "metadata": {},
   "outputs": [
    {
     "name": "stdout",
     "output_type": "stream",
     "text": [
      "               CERT          COST           FIN           ID      QBFASSET  \\\n",
      "count   3621.000000  3.472000e+03   4109.000000  4109.000000  3.955000e+03   \n",
      "mean   24519.410660  8.469810e+04   4176.718180  2055.000000  1.366148e+06   \n",
      "std    11651.915609  5.223738e+05   3331.469667  1186.310457  3.129309e+07   \n",
      "min       40.000000 -1.138100e+04      0.000000     1.000000  1.400000e+01   \n",
      "25%    18279.000000  3.161000e+03   1754.000000  1028.000000  1.796250e+04   \n",
      "50%    26353.000000  1.131500e+04   2967.000000  2055.000000  5.555500e+04   \n",
      "75%    30990.000000  4.290175e+04   7030.000000  3082.000000  1.969650e+05   \n",
      "max    91189.000000  1.782003e+07  12894.000000  4109.000000  1.471631e+09   \n",
      "\n",
      "             QBFDEP  \n",
      "count  4.107000e+03  \n",
      "mean   7.524135e+05  \n",
      "std    1.621087e+07  \n",
      "min    0.000000e+00  \n",
      "25%    1.463250e+04  \n",
      "50%    4.954400e+04  \n",
      "75%    1.749410e+05  \n",
      "max    9.546776e+08  \n"
     ]
    }
   ],
   "source": [
    "#describing the data\n",
    "print(data.describe())\n"
   ]
  },
  {
   "cell_type": "code",
   "execution_count": 234,
   "metadata": {},
   "outputs": [
    {
     "data": {
      "text/plain": [
       "RESTYPE\n",
       "FAILURE       3516\n",
       "ASSISTANCE     593\n",
       "Name: count, dtype: int64"
      ]
     },
     "execution_count": 234,
     "metadata": {},
     "output_type": "execute_result"
    }
   ],
   "source": [
    "what_are_restypes = data['RESTYPE'].value_counts()\n",
    "what_are_restypes"
   ]
  },
  {
   "cell_type": "markdown",
   "metadata": {},
   "source": [
    "# Data Cleaning"
   ]
  },
  {
   "cell_type": "code",
   "execution_count": 235,
   "metadata": {},
   "outputs": [
    {
     "data": {
      "text/plain": [
       "CERT        488\n",
       "CHCLASS1      0\n",
       "CITYST        0\n",
       "COST        637\n",
       "FAILDATE      0\n",
       "FIN           0\n",
       "ID            0\n",
       "NAME          0\n",
       "QBFASSET    154\n",
       "QBFDEP        2\n",
       "RESTYPE       0\n",
       "RESTYPE1      0\n",
       "SAVR          0\n",
       "dtype: int64"
      ]
     },
     "execution_count": 235,
     "metadata": {},
     "output_type": "execute_result"
    }
   ],
   "source": [
    "test = data.isna().sum()\n",
    "test"
   ]
  },
  {
   "cell_type": "code",
   "execution_count": 236,
   "metadata": {},
   "outputs": [],
   "source": [
    "X = pd.DataFrame(data[['COST', 'QBFASSET', 'QBFDEP']].values)\n",
    "\n",
    "y = data['RESTYPE']\n",
    "\n",
    "X_train, X_test, y_train, y_test = train_test_split(X, y, test_size=0.2)\n"
   ]
  },
  {
   "cell_type": "markdown",
   "metadata": {},
   "source": [
    "Our X will consist of each bank's cost (COST), total assets (QBFASSET), and total deposits (QBFDEP). "
   ]
  },
  {
   "cell_type": "code",
   "execution_count": 237,
   "metadata": {},
   "outputs": [
    {
     "data": {
      "text/html": [
       "<div>\n",
       "<style scoped>\n",
       "    .dataframe tbody tr th:only-of-type {\n",
       "        vertical-align: middle;\n",
       "    }\n",
       "\n",
       "    .dataframe tbody tr th {\n",
       "        vertical-align: top;\n",
       "    }\n",
       "\n",
       "    .dataframe thead th {\n",
       "        text-align: right;\n",
       "    }\n",
       "</style>\n",
       "<table border=\"1\" class=\"dataframe\">\n",
       "  <thead>\n",
       "    <tr style=\"text-align: right;\">\n",
       "      <th></th>\n",
       "      <th>0</th>\n",
       "      <th>1</th>\n",
       "      <th>2</th>\n",
       "    </tr>\n",
       "  </thead>\n",
       "  <tbody>\n",
       "    <tr>\n",
       "      <th>0</th>\n",
       "      <td>1.000000</td>\n",
       "      <td>0.173733</td>\n",
       "      <td>0.187681</td>\n",
       "    </tr>\n",
       "    <tr>\n",
       "      <th>1</th>\n",
       "      <td>0.173733</td>\n",
       "      <td>1.000000</td>\n",
       "      <td>0.994227</td>\n",
       "    </tr>\n",
       "    <tr>\n",
       "      <th>2</th>\n",
       "      <td>0.187681</td>\n",
       "      <td>0.994227</td>\n",
       "      <td>1.000000</td>\n",
       "    </tr>\n",
       "  </tbody>\n",
       "</table>\n",
       "</div>"
      ],
      "text/plain": [
       "          0         1         2\n",
       "0  1.000000  0.173733  0.187681\n",
       "1  0.173733  1.000000  0.994227\n",
       "2  0.187681  0.994227  1.000000"
      ]
     },
     "execution_count": 237,
     "metadata": {},
     "output_type": "execute_result"
    }
   ],
   "source": [
    "X_train.corr()"
   ]
  },
  {
   "cell_type": "code",
   "execution_count": 238,
   "metadata": {},
   "outputs": [
    {
     "data": {
      "image/png": "[encoded data removed]",
      "text/plain": [
       "<Figure size 1200x500 with 2 Axes>"
      ]
     },
     "metadata": {},
     "output_type": "display_data"
    }
   ],
   "source": [
    "# Courtesy of Stackoverflow: https://stackoverflow.com/questions/70379709/visualization-data-train-and-data-test-from-train-test-split-with-seaborn\n",
    "\n",
    "fig, ax = plt.subplots(1,2, figsize=(12,5))\n",
    "for idx, group in enumerate([('Train', y_train), ('Test', y_test)]):\n",
    "    datum = group[1].value_counts()\n",
    "    sns.barplot(ax=ax[idx], x=datum.index, y=datum.values)\n",
    "    ax[idx].set_title(f'{group[0]} Label Count')\n",
    "    ax[idx].set_xlabel(f'{group[0]} Labels')\n",
    "    ax[idx].set_ylabel('Label Count')\n",
    "\n",
    "plt.show()"
   ]
  },
  {
   "cell_type": "markdown",
   "metadata": {},
   "source": [
    "## Handling the imbalanced data -> Let's explore Microsoft's LightGBM!\n",
    "\n",
    "According to Wikipedia, LightGBM is short for light gradient-boosting machine. It is a free and open-source distributed gradient-boosting framework for machine learning, originally developed by Microsoft. It is based on decision tree algorithms and used for ranking, classification and other machine learning tasks."
   ]
  },
  {
   "cell_type": "markdown",
   "metadata": {},
   "source": [
    "Okay, let's handle missing values:"
   ]
  },
  {
   "cell_type": "code",
   "execution_count": 239,
   "metadata": {},
   "outputs": [],
   "source": [
    "data = data.replace([np.inf, -np.inf], np.nan).dropna()\n",
    "\n",
    "for c in data.columns:\n",
    "    data[c]=data[c].apply(str)\n",
    "    le=preprocessing.LabelEncoder().fit(data[c])\n",
    "    data[c] =le.transform(data[c])\n",
    "    pd.to_numeric(data[c]).astype(float)\n",
    "\n",
    "X = pd.DataFrame(data[['COST', 'QBFASSET', 'QBFDEP']].values)\n",
    "y = data['RESTYPE']\n",
    "X_train, X_test, Y_train, y_test = train_test_split(X, y, test_size=0.2)\n",
    "\n",
    "\n"
   ]
  },
  {
   "cell_type": "markdown",
   "metadata": {},
   "source": [
    "Next, let's explore logistic regression on our split data"
   ]
  },
  {
   "cell_type": "code",
   "execution_count": 240,
   "metadata": {},
   "outputs": [
    {
     "name": "stdout",
     "output_type": "stream",
     "text": [
      "Accuracy: 0.8517985611510791\n",
      "Mean Squared Error: 0.14820143884892087\n"
     ]
    }
   ],
   "source": [
    "# Train a logistic regression model\n",
    "model = LogisticRegression()\n",
    "model.fit(X_train, Y_train)\n",
    "\n",
    "# Make predictions on the test set\n",
    "y_pred = model.predict(X_test)\n",
    "\n",
    "# Evaluate the model's accuracy\n",
    "accuracy = accuracy_score(y_test, y_pred)\n",
    "print(\"Accuracy:\", accuracy)\n",
    "\n",
    "# Calculate the mean squared error\n",
    "mse = mean_squared_error(y_test, y_pred, multioutput= 'uniform_average') # Replace with the appropriate error calculation depending on the task\n",
    "print(\"Mean Squared Error:\", mse)"
   ]
  },
  {
   "cell_type": "markdown",
   "metadata": {},
   "source": [
    "To evaluate the performance of the model while the training process goes on let’s split the dataset in 75:25 ratio and then use it to create lgb dataset and then train the model.\n",
    "\n",
    "Reference: https://www.geeksforgeeks.org/regression-using-lightgbm/"
   ]
  },
  {
   "cell_type": "code",
   "execution_count": 241,
   "metadata": {},
   "outputs": [],
   "source": [
    "# Standardize Features\n",
    "\n",
    "# Use StandardScaler to scale the training and validation data\n",
    "scaler = StandardScaler()\n",
    "#Fit the StandardScaler to the training data\n",
    "scaler.fit(X_train)\n",
    "# transform both the training and validation data\n",
    "X_train = scaler.transform(X_train)\n",
    "X_val = scaler.transform(X_test)\n"
   ]
  },
  {
   "cell_type": "code",
   "execution_count": 242,
   "metadata": {},
   "outputs": [],
   "source": [
    "# Create a LightGBM dataset for training with features X_train and labels Y_train\n",
    "train_data = lgb.Dataset(X_train, label=Y_train)\n",
    "\n",
    "# Create a LightGBM dataset for testing with features X_val and labels Y_val,\n",
    "# and specify the reference dataset as train_data for consistent evaluation\n",
    "test_data = lgb.Dataset(X_test, label=y_test, reference=train_data)\n"
   ]
  },
  {
   "cell_type": "code",
   "execution_count": 243,
   "metadata": {},
   "outputs": [],
   "source": [
    "# Define a dictionary of parameters for configuring the LightGBM regression model.\n",
    "params = {\n",
    "\t'objective': 'regression',\n",
    "\t'metric': 'rmse',\n",
    "\t'boosting_type': 'gbdt',\n",
    "\t'num_leaves': 31,\n",
    "\t'learning_rate': 0.05,\n",
    "\t'feature_fraction': 0.9,\n",
    "}\n"
   ]
  },
  {
   "cell_type": "markdown",
   "metadata": {},
   "source": [
    "### Description of parameters for LightGBM: \n",
    "\n",
    "Let’s take a quick look at the parameters that has been passed to the model.\n",
    "\n",
    "- objective – This defines on what type of task you are going to train your model on for e.g regression has been passed here for regression task also we can pass classification and multi-class classification for binary as well as multi class classification.\n",
    "- metric – Metric that will be used by the model to improve upon. Also we will be able to get the model’s performance on the validation data(if passed) as the training process goes on.\n",
    "- boosting_type – It is the method that is been used by the lightgbm model to train the parameters of the model for e.g GBDT(Gradient Boosting Decision Trees) that is the default method and rf(random forest based) and one more is dart(Dropouts meet Multiple Additive Regression Trees).\n",
    "- num_leaves – The default value is 31 and it is used to define the maximum number of leaf nodes in a tree.\n",
    "- learning_rate – As we know that the learning rate is a very common hyperparameter that is used to control the learning process.\n",
    "- feature_fraction – This is the fraction of the features that will be used initially to train the decision trees. If we set this to 0.9 that means 90% of the features will be used only. this help us deal with the problem of overfitting.\n",
    "\n",
    "Let’s train the model for 100 epoch on the training data and we will pass the validation data as well to visualize the performance of the model on the unseen data while training process goes on. This helps us to keep a check on the training progress."
   ]
  },
  {
   "cell_type": "code",
   "execution_count": 244,
   "metadata": {},
   "outputs": [
    {
     "name": "stdout",
     "output_type": "stream",
     "text": [
      "[LightGBM] [Info] Auto-choosing col-wise multi-threading, the overhead of testing was 0.000396 seconds.\n",
      "You can set `force_col_wise=true` to remove the overhead.\n",
      "[LightGBM] [Info] Total Bins 765\n",
      "[LightGBM] [Info] Number of data points in the train set: 2777, number of used features: 3\n",
      "[LightGBM] [Info] Start training from score 0.843356\n",
      "Training until validation scores don't improve for 10 rounds\n",
      "Early stopping, best iteration is:\n",
      "[2]\tvalid_0's rmse: 0.355314\n"
     ]
    }
   ],
   "source": [
    "# Set the number of rounds and train the model with early stopping\n",
    "num_round = 100\n",
    "bst = lgb.train(params, train_data, num_round, valid_sets=[\n",
    "\t\t\t\ttest_data], callbacks=[\n",
    "        lgb.early_stopping(stopping_rounds=10),\n",
    "    ])\n"
   ]
  },
  {
   "cell_type": "code",
   "execution_count": 245,
   "metadata": {},
   "outputs": [
    {
     "name": "stdout",
     "output_type": "stream",
     "text": [
      "[LightGBM] [Info] Auto-choosing col-wise multi-threading, the overhead of testing was 0.000323 seconds.\n",
      "You can set `force_col_wise=true` to remove the overhead.\n",
      "[LightGBM] [Info] Total Bins 765\n",
      "[LightGBM] [Info] Number of data points in the train set: 2777, number of used features: 3\n",
      "[LightGBM] [Info] Start training from score 0.843356\n"
     ]
    }
   ],
   "source": [
    "# Import necessary libraries for calculating mean squared error and using the LightGBM regressor.\n",
    "from sklearn.metrics import mean_squared_error as mse\n",
    "from lightgbm import LGBMRegressor\n",
    "\n",
    "# Create an instance of the LightGBM Regressor with the RMSE metric.\n",
    "model = LGBMRegressor(metric='rmse')\n",
    "\n",
    "# Train the model using the training data.\n",
    "model.fit(X_train, Y_train)\n",
    "\n",
    "# Make predictions on the training and validation data.\n",
    "y_train = model.predict(X_train)\n",
    "y_val = model.predict(X_test)\n"
   ]
  },
  {
   "cell_type": "code",
   "execution_count": 246,
   "metadata": {},
   "outputs": [
    {
     "name": "stdout",
     "output_type": "stream",
     "text": [
      "Training RMSE:  0.27865179550861957\n",
      "Validation RMSE:  0.38091726334437753\n"
     ]
    }
   ],
   "source": [
    "# Calculate and print the Root Mean Squared Error (RMSE) for training and validation predictions.\n",
    "print(\"Training RMSE: \", np.sqrt(mse(Y_train, y_train)))\n",
    "print(\"Validation RMSE: \", np.sqrt(mse(y_test, y_val)))\n"
   ]
  },
  {
   "cell_type": "markdown",
   "metadata": {},
   "source": [
    "Here, this code computes and shows RMSE, a measure of prediction accuracy, for both the training and validation datasets. It assesses how well lightGBM regression model performs on the data, with lower RMSE values indicating better model fit.\n",
    "\n",
    "###### Conclusion:\n",
    "LightGBM offers a robust and efficient approach to regression tasks. It excels in handling large datasets and delivers high-quality results. Key benefits include:\n",
    "\n",
    "- Efficient learning and prediction\n",
    "- Interpretability through feature importance scores\n",
    "- Excellent scalability\n",
    "- Strong performance measured by metrics like RMSE\n",
    "\n"
   ]
  },
  {
   "cell_type": "markdown",
   "metadata": {},
   "source": [
    "### Using Google's BARD:"
   ]
  },
  {
   "cell_type": "code",
   "execution_count": 247,
   "metadata": {},
   "outputs": [
    {
     "name": "stdout",
     "output_type": "stream",
     "text": [
      "Accuracy: 0.8561151079136691\n",
      "Precision: 0.8606676342525399\n",
      "Recall: 0.9932998324958124\n",
      "\n",
      "Feature Importance:\n",
      "COST: 0.0\n",
      "QBFASSET: 0.0\n",
      "QBFDEP: 0.0\n"
     ]
    }
   ],
   "source": [
    "# Import libraries\n",
    "import pandas as pd\n",
    "from sklearn.model_selection import train_test_split\n",
    "from sklearn.linear_model import LogisticRegression\n",
    "\n",
    "# Load data (replace 'your_data.csv' with your actual file)\n",
    "data = pd.read_csv('bank-data.csv')\n",
    "data = data.dropna(how='any')\n",
    "\n",
    "# Define features and target variable\n",
    "X = data[['COST', 'QBFASSET', 'QBFDEP']]\n",
    "y = data['RESTYPE']  # Assuming 'RESTYPE' indicates failure/assistance\n",
    "\n",
    "y = y.map({'FAILURE': 1, 'ASSISTANCE' : 0})\n",
    "\n",
    "# Split data into training and testing sets\n",
    "X_train, X_test, y_train, y_test = train_test_split(X, y, test_size=0.2)\n",
    "\n",
    "# Create and train the logistic regression model\n",
    "model = LogisticRegression()\n",
    "model.fit(X_train, y_train)\n",
    "\n",
    "# Make predictions on the test set\n",
    "y_pred = model.predict(X_test)\n",
    "\n",
    "# Evaluate model performance (accuracy, precision, recall, etc.)\n",
    "from sklearn.metrics import accuracy_score, precision_score, recall_score\n",
    "\n",
    "accuracy = accuracy_score(y_test, y_pred)\n",
    "precision = precision_score(y_test, y_pred)\n",
    "recall = recall_score(y_test, y_pred)\n",
    "\n",
    "print(\"Accuracy:\", accuracy)\n",
    "print(\"Precision:\", precision)\n",
    "print(\"Recall:\", recall)\n",
    "\n",
    "# Feature Importance (optional)\n",
    "from sklearn.utils import resample\n",
    "from sklearn.model_selection import StratifiedShuffleSplit\n",
    "\n",
    "# Feature Importance (optional)\n",
    "importance = []\n",
    "for f in range(X_train.shape[1]):\n",
    "    original_score = accuracy_score(y_test, model.predict(X_test))\n",
    "    splitter = StratifiedShuffleSplit(n_splits=10, random_state=42)\n",
    "    for train_index, test_index in splitter.split(X_train, y_train):\n",
    "        X_train_perm, X_test_perm = X_train.iloc[train_index], X_train.iloc[test_index]\n",
    "        y_train_perm, y_test_perm = y_train.iloc[train_index], y_train.iloc[test_index]\n",
    "        model.fit(X_train_perm, y_train_perm)\n",
    "        permuted_score = accuracy_score(y_test, model.predict(X_test))\n",
    "        importance.append(original_score - permuted_score)\n",
    "\n",
    "# Sort features by importance\n",
    "feature_names = X.columns\n",
    "feature_importance = sorted(zip(feature_names, importance), key=lambda x: x[1], reverse=True)\n",
    "\n",
    "print(\"\\nFeature Importance:\")\n",
    "for name, imp in feature_importance:\n",
    "    print(f\"{name}: {imp}\")\n"
   ]
  },
  {
   "cell_type": "markdown",
   "metadata": {},
   "source": [
    "## Model Performance:\n",
    "\n",
    "- Accuracy (0.856): This indicates that the model predicts correctly about 85.6% of the time. However, depending on the cost of misclassification (false positives vs. false negatives), this might not be sufficient for a real-world application.\n",
    "- Precision (0.861): Out of the banks predicted to fail (positive predictions), 86.1% actually failed. This is a good precision, indicating the model has a low rate of false positives.\n",
    "- Recall (0.993): The model identifies 99.3% of actual failures (positive class). This is a very high recall, which means the model is good at catching failing banks.\n",
    "## High Recall, Low Feature Importance:\n",
    "\n",
    "An interesting aspect is the high recall alongside zero feature importance for all three features (COST, QBFASSET, QBFDEP). This suggests a few possibilities:\n",
    "\n",
    "1. Dominant Class: It's possible that the majority of banks in your data belong to the \"failure\" class. In this case, a simple model that always predicts \"failure\" might achieve high recall by default.\n",
    "2. Irrelevant Features: The features you've chosen (COST, QBFASSET, QBFDEP) might not be informative for predicting bank failure in your data. Consider exploring other features from the FDIC data that might be more relevant (e.g., capital adequacy ratios, loan delinquency rates).\n",
    "3. Model Overfitting: In some cases, a model can overfit the training data and achieve high accuracy on the training set but perform poorly on unseen data (like your test set). This could lead to high recall on the test set by chance, but wouldn't generalize well.\n",
    "## Here are some recommendations for further investigation:\n",
    "\n",
    "- Analyze Class Distribution: Check the distribution of your target variable (failures vs. assisted banks) in the data.\n",
    "- Explore Other Features: Look for alternative features in the FDIC data that might be better suited for predicting bank failure.\n",
    "- Evaluation on Different Metrics: Evaluate the model using other metrics like AUC-ROC (Area Under the Receiver Operating Characteristic Curve) which can be helpful when dealing with imbalanced classes.\n",
    "- Test on Unseen Data: If possible, consider obtaining a separate dataset for testing the model's performance on unseen data."
   ]
  },
  {
   "cell_type": "markdown",
   "metadata": {},
   "source": []
  }
 ],
 "metadata": {
  "kernelspec": {
   "display_name": "venv",
   "language": "python",
   "name": "python3"
  },
  "language_info": {
   "codemirror_mode": {
    "name": "ipython",
    "version": 3
   },
   "file_extension": ".py",
   "mimetype": "text/x-python",
   "name": "python",
   "nbconvert_exporter": "python",
   "pygments_lexer": "ipython3",
   "version": "3.12.3"
  }
 },
 "nbformat": 4,
 "nbformat_minor": 2
}
