{
 "cells": [
  {
   "cell_type": "code",
   "execution_count": 57,
   "metadata": {},
   "outputs": [],
   "source": [
    "import pandas as pd\n",
    "import numpy as np\n",
    "\n",
    "from sklearn.model_selection import train_test_split\n",
    "import matplotlib.pyplot as plt\n",
    "\n",
    "import seaborn as sns\n",
    "from sklearn import preprocessing\n",
    "from sklearn.linear_model import LogisticRegression\n",
    "from sklearn.preprocessing import OneHotEncoder\n",
    "from sklearn.metrics import accuracy_score, mean_squared_error\n",
    "\n"
   ]
  },
  {
   "cell_type": "code",
   "execution_count": 58,
   "metadata": {},
   "outputs": [
    {
     "data": {
      "text/html": [
       "<div>\n",
       "<style scoped>\n",
       "    .dataframe tbody tr th:only-of-type {\n",
       "        vertical-align: middle;\n",
       "    }\n",
       "\n",
       "    .dataframe tbody tr th {\n",
       "        vertical-align: top;\n",
       "    }\n",
       "\n",
       "    .dataframe thead th {\n",
       "        text-align: right;\n",
       "    }\n",
       "</style>\n",
       "<table border=\"1\" class=\"dataframe\">\n",
       "  <thead>\n",
       "    <tr style=\"text-align: right;\">\n",
       "      <th></th>\n",
       "      <th>CERT</th>\n",
       "      <th>CHCLASS1</th>\n",
       "      <th>CITYST</th>\n",
       "      <th>COST</th>\n",
       "      <th>FAILDATE</th>\n",
       "      <th>FIN</th>\n",
       "      <th>ID</th>\n",
       "      <th>NAME</th>\n",
       "      <th>QBFASSET</th>\n",
       "      <th>QBFDEP</th>\n",
       "      <th>RESTYPE</th>\n",
       "      <th>RESTYPE1</th>\n",
       "      <th>SAVR</th>\n",
       "    </tr>\n",
       "  </thead>\n",
       "  <tbody>\n",
       "    <tr>\n",
       "      <th>0</th>\n",
       "      <td>NaN</td>\n",
       "      <td>NM</td>\n",
       "      <td>EAST PEORIA, IL</td>\n",
       "      <td>NaN</td>\n",
       "      <td>5/28/1934</td>\n",
       "      <td>0</td>\n",
       "      <td>1</td>\n",
       "      <td>FON DU LAC STATE BANK</td>\n",
       "      <td>374.0</td>\n",
       "      <td>238.0</td>\n",
       "      <td>FAILURE</td>\n",
       "      <td>PO</td>\n",
       "      <td>FDIC</td>\n",
       "    </tr>\n",
       "    <tr>\n",
       "      <th>1</th>\n",
       "      <td>NaN</td>\n",
       "      <td>NM</td>\n",
       "      <td>GRANTWOOD, NJ</td>\n",
       "      <td>NaN</td>\n",
       "      <td>1/3/1935</td>\n",
       "      <td>0</td>\n",
       "      <td>10</td>\n",
       "      <td>CLIFFSIDE PARK TITLE GUARANTEE &amp; TRUST CO.</td>\n",
       "      <td>2305.0</td>\n",
       "      <td>590.0</td>\n",
       "      <td>FAILURE</td>\n",
       "      <td>PO</td>\n",
       "      <td>FDIC</td>\n",
       "    </tr>\n",
       "    <tr>\n",
       "      <th>2</th>\n",
       "      <td>NaN</td>\n",
       "      <td>NM</td>\n",
       "      <td>CUMMINGS, ND</td>\n",
       "      <td>NaN</td>\n",
       "      <td>12/21/1936</td>\n",
       "      <td>0</td>\n",
       "      <td>100</td>\n",
       "      <td>THE CUMMINGS STATE BANK</td>\n",
       "      <td>NaN</td>\n",
       "      <td>30.0</td>\n",
       "      <td>FAILURE</td>\n",
       "      <td>P&amp;A</td>\n",
       "      <td>FDIC</td>\n",
       "    </tr>\n",
       "    <tr>\n",
       "      <th>3</th>\n",
       "      <td>13797.0</td>\n",
       "      <td>NM</td>\n",
       "      <td>TAYLOR, NE</td>\n",
       "      <td>1653.0</td>\n",
       "      <td>5/31/1985</td>\n",
       "      <td>2466</td>\n",
       "      <td>1000</td>\n",
       "      <td>BANK OF TAYLOR</td>\n",
       "      <td>14542.0</td>\n",
       "      <td>13360.0</td>\n",
       "      <td>FAILURE</td>\n",
       "      <td>PA</td>\n",
       "      <td>FDIC</td>\n",
       "    </tr>\n",
       "    <tr>\n",
       "      <th>4</th>\n",
       "      <td>18388.0</td>\n",
       "      <td>NM</td>\n",
       "      <td>FAIRFIELD, NE</td>\n",
       "      <td>1656.0</td>\n",
       "      <td>5/31/1985</td>\n",
       "      <td>6571</td>\n",
       "      <td>1001</td>\n",
       "      <td>FAIRFIELD STATE BANK</td>\n",
       "      <td>6795.0</td>\n",
       "      <td>6034.0</td>\n",
       "      <td>FAILURE</td>\n",
       "      <td>PO</td>\n",
       "      <td>FDIC</td>\n",
       "    </tr>\n",
       "  </tbody>\n",
       "</table>\n",
       "</div>"
      ],
      "text/plain": [
       "      CERT CHCLASS1           CITYST    COST    FAILDATE   FIN    ID  \\\n",
       "0      NaN       NM  EAST PEORIA, IL     NaN   5/28/1934     0     1   \n",
       "1      NaN       NM    GRANTWOOD, NJ     NaN    1/3/1935     0    10   \n",
       "2      NaN       NM     CUMMINGS, ND     NaN  12/21/1936     0   100   \n",
       "3  13797.0       NM       TAYLOR, NE  1653.0   5/31/1985  2466  1000   \n",
       "4  18388.0       NM    FAIRFIELD, NE  1656.0   5/31/1985  6571  1001   \n",
       "\n",
       "                                         NAME  QBFASSET   QBFDEP  RESTYPE  \\\n",
       "0                       FON DU LAC STATE BANK     374.0    238.0  FAILURE   \n",
       "1  CLIFFSIDE PARK TITLE GUARANTEE & TRUST CO.    2305.0    590.0  FAILURE   \n",
       "2                     THE CUMMINGS STATE BANK       NaN     30.0  FAILURE   \n",
       "3                              BANK OF TAYLOR   14542.0  13360.0  FAILURE   \n",
       "4                        FAIRFIELD STATE BANK    6795.0   6034.0  FAILURE   \n",
       "\n",
       "  RESTYPE1  SAVR  \n",
       "0       PO  FDIC  \n",
       "1       PO  FDIC  \n",
       "2      P&A  FDIC  \n",
       "3       PA  FDIC  \n",
       "4       PO  FDIC  "
      ]
     },
     "execution_count": 58,
     "metadata": {},
     "output_type": "execute_result"
    }
   ],
   "source": [
    "data = pd.read_csv('bank-data.csv')\n",
    "data.head()"
   ]
  },
  {
   "cell_type": "code",
   "execution_count": 59,
   "metadata": {},
   "outputs": [
    {
     "data": {
      "text/plain": [
       "Index(['CERT', 'CHCLASS1', 'CITYST', 'COST', 'FAILDATE', 'FIN', 'ID', 'NAME',\n",
       "       'QBFASSET', 'QBFDEP', 'RESTYPE', 'RESTYPE1', 'SAVR'],\n",
       "      dtype='object')"
      ]
     },
     "execution_count": 59,
     "metadata": {},
     "output_type": "execute_result"
    }
   ],
   "source": [
    "data.columns"
   ]
  },
  {
   "cell_type": "code",
   "execution_count": 60,
   "metadata": {},
   "outputs": [
    {
     "data": {
      "text/plain": [
       "<bound method DataFrame.info of          CERT CHCLASS1           CITYST     COST    FAILDATE   FIN    ID  \\\n",
       "0         NaN       NM  EAST PEORIA, IL      NaN   5/28/1934     0     1   \n",
       "1         NaN       NM    GRANTWOOD, NJ      NaN    1/3/1935     0    10   \n",
       "2         NaN       NM     CUMMINGS, ND      NaN  12/21/1936     0   100   \n",
       "3     13797.0       NM       TAYLOR, NE   1653.0   5/31/1985  2466  1000   \n",
       "4     18388.0       NM    FAIRFIELD, NE   1656.0   5/31/1985  6571  1001   \n",
       "...       ...      ...              ...      ...         ...   ...   ...   \n",
       "4104  30934.0       SL   TITUSVILLE, FL   7096.0    5/2/1985  1666   987   \n",
       "4105  28448.0       SB  NEW ORLEANS, LA  51544.0   5/10/1985  1718   991   \n",
       "4106  30054.0       SL       MARION, OH      0.0   5/22/1985  1667   994   \n",
       "4107  29052.0       SL     FREEPORT, IL  13607.0   5/28/1985  1721   996   \n",
       "4108   9477.0       NM     WOODBURN, OR  18791.0   5/31/1985  1923   998   \n",
       "\n",
       "                                            NAME  QBFASSET    QBFDEP  \\\n",
       "0                          FON DU LAC STATE BANK     374.0     238.0   \n",
       "1     CLIFFSIDE PARK TITLE GUARANTEE & TRUST CO.    2305.0     590.0   \n",
       "2                        THE CUMMINGS STATE BANK       NaN      30.0   \n",
       "3                                 BANK OF TAYLOR   14542.0   13360.0   \n",
       "4                           FAIRFIELD STATE BANK    6795.0    6034.0   \n",
       "...                                          ...       ...       ...   \n",
       "4104                 FIRST FEDERAL OF TITUSVILLE  162735.0  157676.0   \n",
       "4105                   FIRST FINANCIAL BANK, FSB  739385.0  630966.0   \n",
       "4106                                  HOME FS&LA  201914.0  206552.0   \n",
       "4107                     FIRST FS&LA OF FREEPORT   63321.0   45738.0   \n",
       "4108                              BANK OF OREGON  117145.0   96968.0   \n",
       "\n",
       "         RESTYPE RESTYPE1   SAVR  \n",
       "0        FAILURE       PO   FDIC  \n",
       "1        FAILURE       PO   FDIC  \n",
       "2        FAILURE      P&A   FDIC  \n",
       "3        FAILURE       PA   FDIC  \n",
       "4        FAILURE       PO   FDIC  \n",
       "...          ...      ...    ...  \n",
       "4104  ASSISTANCE      A/A  FSLIC  \n",
       "4105  ASSISTANCE      A/A  FSLIC  \n",
       "4106  ASSISTANCE      A/A  FSLIC  \n",
       "4107  ASSISTANCE      A/A  FSLIC  \n",
       "4108  ASSISTANCE      A/A   FDIC  \n",
       "\n",
       "[4109 rows x 13 columns]>"
      ]
     },
     "execution_count": 60,
     "metadata": {},
     "output_type": "execute_result"
    }
   ],
   "source": [
    "data.info"
   ]
  },
  {
   "cell_type": "code",
   "execution_count": 61,
   "metadata": {},
   "outputs": [
    {
     "data": {
      "text/plain": [
       "RESTYPE\n",
       "FAILURE       3516\n",
       "ASSISTANCE     593\n",
       "Name: count, dtype: int64"
      ]
     },
     "execution_count": 61,
     "metadata": {},
     "output_type": "execute_result"
    }
   ],
   "source": [
    "what_are_restypes = data['RESTYPE'].value_counts()\n",
    "what_are_restypes"
   ]
  },
  {
   "cell_type": "markdown",
   "metadata": {},
   "source": [
    "# Data Cleaning"
   ]
  },
  {
   "cell_type": "code",
   "execution_count": 62,
   "metadata": {},
   "outputs": [
    {
     "data": {
      "text/plain": [
       "CERT        488\n",
       "CHCLASS1      0\n",
       "CITYST        0\n",
       "COST        637\n",
       "FAILDATE      0\n",
       "FIN           0\n",
       "ID            0\n",
       "NAME          0\n",
       "QBFASSET    154\n",
       "QBFDEP        2\n",
       "RESTYPE       0\n",
       "RESTYPE1      0\n",
       "SAVR          0\n",
       "dtype: int64"
      ]
     },
     "execution_count": 62,
     "metadata": {},
     "output_type": "execute_result"
    }
   ],
   "source": [
    "test = data.isna().sum()\n",
    "test"
   ]
  },
  {
   "cell_type": "markdown",
   "metadata": {},
   "source": [
    "## To Do:\n",
    "- Figure out how to deal with the missing values"
   ]
  },
  {
   "cell_type": "code",
   "execution_count": 63,
   "metadata": {},
   "outputs": [],
   "source": [
    "X = pd.DataFrame(data[['COST', 'QBFASSET', 'QBFDEP']].values)\n",
    "\n",
    "y = data['RESTYPE']\n",
    "\n",
    "X_train, X_test, y_train, y_test = train_test_split(X, y, test_size=0.2)\n"
   ]
  },
  {
   "cell_type": "code",
   "execution_count": 64,
   "metadata": {},
   "outputs": [
    {
     "data": {
      "text/html": [
       "<div>\n",
       "<style scoped>\n",
       "    .dataframe tbody tr th:only-of-type {\n",
       "        vertical-align: middle;\n",
       "    }\n",
       "\n",
       "    .dataframe tbody tr th {\n",
       "        vertical-align: top;\n",
       "    }\n",
       "\n",
       "    .dataframe thead th {\n",
       "        text-align: right;\n",
       "    }\n",
       "</style>\n",
       "<table border=\"1\" class=\"dataframe\">\n",
       "  <thead>\n",
       "    <tr style=\"text-align: right;\">\n",
       "      <th></th>\n",
       "      <th>0</th>\n",
       "      <th>1</th>\n",
       "      <th>2</th>\n",
       "    </tr>\n",
       "  </thead>\n",
       "  <tbody>\n",
       "    <tr>\n",
       "      <th>0</th>\n",
       "      <td>1.000000</td>\n",
       "      <td>0.609933</td>\n",
       "      <td>0.679724</td>\n",
       "    </tr>\n",
       "    <tr>\n",
       "      <th>1</th>\n",
       "      <td>0.609933</td>\n",
       "      <td>1.000000</td>\n",
       "      <td>0.813760</td>\n",
       "    </tr>\n",
       "    <tr>\n",
       "      <th>2</th>\n",
       "      <td>0.679724</td>\n",
       "      <td>0.813760</td>\n",
       "      <td>1.000000</td>\n",
       "    </tr>\n",
       "  </tbody>\n",
       "</table>\n",
       "</div>"
      ],
      "text/plain": [
       "          0         1         2\n",
       "0  1.000000  0.609933  0.679724\n",
       "1  0.609933  1.000000  0.813760\n",
       "2  0.679724  0.813760  1.000000"
      ]
     },
     "execution_count": 64,
     "metadata": {},
     "output_type": "execute_result"
    }
   ],
   "source": [
    "X_train.corr()"
   ]
  },
  {
   "cell_type": "code",
   "execution_count": 65,
   "metadata": {},
   "outputs": [
    {
     "data": {
      "image/png": "[encoded data removed]",
      "text/plain": [
       "<Figure size 1200x500 with 2 Axes>"
      ]
     },
     "metadata": {},
     "output_type": "display_data"
    }
   ],
   "source": [
    "# Courtesy of Stackoverflow: https://stackoverflow.com/questions/70379709/visualization-data-train-and-data-test-from-train-test-split-with-seaborn\n",
    "\n",
    "fig, ax = plt.subplots(1,2, figsize=(12,5))\n",
    "for idx, group in enumerate([('Train', y_train), ('Test', y_test)]):\n",
    "    datum = group[1].value_counts()\n",
    "    sns.barplot(ax=ax[idx], x=datum.index, y=datum.values)\n",
    "    ax[idx].set_title(f'{group[0]} Label Count')\n",
    "    ax[idx].set_xlabel(f'{group[0]} Labels')\n",
    "    ax[idx].set_ylabel('Label Count')\n",
    "\n",
    "plt.show()"
   ]
  },
  {
   "cell_type": "markdown",
   "metadata": {},
   "source": [
    "What is assistance? Well, it's when the FDIC does not establish a receivership but provides financial assistance to an open institution to prevent it from failing"
   ]
  },
  {
   "cell_type": "code",
   "execution_count": 66,
   "metadata": {},
   "outputs": [
    {
     "data": {
      "text/plain": [
       "<bound method DataFrame.info of          CERT CHCLASS1           CITYST     COST    FAILDATE   FIN    ID  \\\n",
       "0         NaN       NM  EAST PEORIA, IL      NaN   5/28/1934     0     1   \n",
       "1         NaN       NM    GRANTWOOD, NJ      NaN    1/3/1935     0    10   \n",
       "2         NaN       NM     CUMMINGS, ND      NaN  12/21/1936     0   100   \n",
       "3     13797.0       NM       TAYLOR, NE   1653.0   5/31/1985  2466  1000   \n",
       "4     18388.0       NM    FAIRFIELD, NE   1656.0   5/31/1985  6571  1001   \n",
       "...       ...      ...              ...      ...         ...   ...   ...   \n",
       "4104  30934.0       SL   TITUSVILLE, FL   7096.0    5/2/1985  1666   987   \n",
       "4105  28448.0       SB  NEW ORLEANS, LA  51544.0   5/10/1985  1718   991   \n",
       "4106  30054.0       SL       MARION, OH      0.0   5/22/1985  1667   994   \n",
       "4107  29052.0       SL     FREEPORT, IL  13607.0   5/28/1985  1721   996   \n",
       "4108   9477.0       NM     WOODBURN, OR  18791.0   5/31/1985  1923   998   \n",
       "\n",
       "                                            NAME  QBFASSET    QBFDEP  \\\n",
       "0                          FON DU LAC STATE BANK     374.0     238.0   \n",
       "1     CLIFFSIDE PARK TITLE GUARANTEE & TRUST CO.    2305.0     590.0   \n",
       "2                        THE CUMMINGS STATE BANK       NaN      30.0   \n",
       "3                                 BANK OF TAYLOR   14542.0   13360.0   \n",
       "4                           FAIRFIELD STATE BANK    6795.0    6034.0   \n",
       "...                                          ...       ...       ...   \n",
       "4104                 FIRST FEDERAL OF TITUSVILLE  162735.0  157676.0   \n",
       "4105                   FIRST FINANCIAL BANK, FSB  739385.0  630966.0   \n",
       "4106                                  HOME FS&LA  201914.0  206552.0   \n",
       "4107                     FIRST FS&LA OF FREEPORT   63321.0   45738.0   \n",
       "4108                              BANK OF OREGON  117145.0   96968.0   \n",
       "\n",
       "         RESTYPE RESTYPE1   SAVR  \n",
       "0        FAILURE       PO   FDIC  \n",
       "1        FAILURE       PO   FDIC  \n",
       "2        FAILURE      P&A   FDIC  \n",
       "3        FAILURE       PA   FDIC  \n",
       "4        FAILURE       PO   FDIC  \n",
       "...          ...      ...    ...  \n",
       "4104  ASSISTANCE      A/A  FSLIC  \n",
       "4105  ASSISTANCE      A/A  FSLIC  \n",
       "4106  ASSISTANCE      A/A  FSLIC  \n",
       "4107  ASSISTANCE      A/A  FSLIC  \n",
       "4108  ASSISTANCE      A/A   FDIC  \n",
       "\n",
       "[4109 rows x 13 columns]>"
      ]
     },
     "execution_count": 66,
     "metadata": {},
     "output_type": "execute_result"
    }
   ],
   "source": [
    "data.info"
   ]
  },
  {
   "cell_type": "code",
   "execution_count": 67,
   "metadata": {},
   "outputs": [],
   "source": [
    "data = data.replace([np.inf, -np.inf], np.nan).dropna()\n",
    "\n",
    "for c in data.columns:\n",
    "    data[c]=data[c].apply(str)\n",
    "    le=preprocessing.LabelEncoder().fit(data[c])\n",
    "    data[c] =le.transform(data[c])\n",
    "    pd.to_numeric(data[c]).astype(float)\n",
    "\n",
    "X = pd.DataFrame(data[['COST', 'QBFASSET', 'QBFDEP']].values)\n",
    "y = data['RESTYPE']\n",
    "X_train, X_test, y_train, y_test = train_test_split(X, y, test_size=0.2)\n",
    "\n",
    "\n"
   ]
  },
  {
   "cell_type": "code",
   "execution_count": 68,
   "metadata": {},
   "outputs": [
    {
     "name": "stdout",
     "output_type": "stream",
     "text": [
      "Accuracy: 0.8474820143884892\n",
      "Mean Squared Error: 0.15251798561151078\n"
     ]
    }
   ],
   "source": [
    "# Train a logistic regression model\n",
    "model = LogisticRegression()\n",
    "model.fit(X_train, y_train)\n",
    "\n",
    "# Make predictions on the test set\n",
    "y_pred = model.predict(X_test)\n",
    "\n",
    "# Evaluate the model's accuracy\n",
    "accuracy = accuracy_score(y_test, y_pred)\n",
    "print(\"Accuracy:\", accuracy)\n",
    "\n",
    "# Calculate the mean squared error\n",
    "mse = mean_squared_error(y_test, y_pred, multioutput= 'uniform_average') # Replace with the appropriate error calculation depending on the task\n",
    "print(\"Mean Squared Error:\", mse)"
   ]
  }
 ],
 "metadata": {
  "kernelspec": {
   "display_name": "venv",
   "language": "python",
   "name": "python3"
  },
  "language_info": {
   "codemirror_mode": {
    "name": "ipython",
    "version": 3
   },
   "file_extension": ".py",
   "mimetype": "text/x-python",
   "name": "python",
   "nbconvert_exporter": "python",
   "pygments_lexer": "ipython3",
   "version": "3.12.2"
  }
 },
 "nbformat": 4,
 "nbformat_minor": 2
}
